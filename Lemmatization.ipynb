{
 "cells": [
  {
   "cell_type": "code",
   "execution_count": 1,
   "id": "c642f9f7",
   "metadata": {},
   "outputs": [],
   "source": [
    "import nltk\n",
    "from nltk.stem import WordNetLemmatizer\n",
    "from nltk.corpus import stopwords"
   ]
  },
  {
   "cell_type": "code",
   "execution_count": 4,
   "id": "8a717263",
   "metadata": {},
   "outputs": [],
   "source": [
    "paragraph = 'I have three visions for India. In 3000 years of our history, people from all over, the world have come and invaded us, captured our lands, conquered our minds. ,From Alexander onwards, the Greeks, the Turks, the Moguls, the Portuguese, the British,the French, the Dutch, all of them came and looted us, took over what was ours. ,Yet we have not done this to any other nation. We have not conquered anyone.We have not grabbed their land, their culture, their history and tried to enforce our way of life on them. Why? Because we respect the freedom of others.That is why my first vision is that of freedom. I believe that India got its first vision of this in 1857, when we started the War of Independence. It is this freedom thatwe must protect and nurture and build on. If we are not free, no one will respect us.My second vision for India’s development. For fifty years we have been a developing nation.It is time we see ourselves as a developed nation. We are among the top 5 nations of the worldin terms of GDP. We have a 10 percent growth rate in most areas. Our poverty levels are fallingOur achievements are being globally recognised today. Yet we lack the self-confidence tosee ourselves as a developed nation, self-reliant and self-assured. Isn’t this incorrect?I have a third vision. India must stand up to the world. Because I believe that unless India stands up to the world, no one will respect us. Only strength respects strength. We must be  strong not only as a military power but also as an economic power. Both must go hand-in-hand.  My good fortune was to have worked with three great minds. Dr. Vikram Sarabhai of the Dept. of  space, Professor Satish Dhawan, who succeeded him and Dr. Brahm Prakash, father of nuclear material. I was lucky to have worked with all three of them closely and consider this the great opportunity of my life.  I see four milestones in my career'"
   ]
  },
  {
   "cell_type": "code",
   "execution_count": 5,
   "id": "6275c420",
   "metadata": {},
   "outputs": [
    {
     "data": {
      "text/plain": [
       "'I have three visions for India. In 3000 years of our history, people from all over, the world have come and invaded us, captured our lands, conquered our minds. ,From Alexander onwards, the Greeks, the Turks, the Moguls, the Portuguese, the British,the French, the Dutch, all of them came and looted us, took over what was ours. ,Yet we have not done this to any other nation. We have not conquered anyone.We have not grabbed their land, their culture, their history and tried to enforce our way of life on them. Why? Because we respect the freedom of others.That is why my first vision is that of freedom. I believe that India got its first vision of this in 1857, when we started the War of Independence. It is this freedom thatwe must protect and nurture and build on. If we are not free, no one will respect us.My second vision for India’s development. For fifty years we have been a developing nation.It is time we see ourselves as a developed nation. We are among the top 5 nations of the worldin terms of GDP. We have a 10 percent growth rate in most areas. Our poverty levels are fallingOur achievements are being globally recognised today. Yet we lack the self-confidence tosee ourselves as a developed nation, self-reliant and self-assured. Isn’t this incorrect?I have a third vision. India must stand up to the world. Because I believe that unless India stands up to the world, no one will respect us. Only strength respects strength. We must be  strong not only as a military power but also as an economic power. Both must go hand-in-hand.  My good fortune was to have worked with three great minds. Dr. Vikram Sarabhai of the Dept. of  space, Professor Satish Dhawan, who succeeded him and Dr. Brahm Prakash, father of nuclear material. I was lucky to have worked with all three of them closely and consider this the great opportunity of my life.  I see four milestones in my career'"
      ]
     },
     "execution_count": 5,
     "metadata": {},
     "output_type": "execute_result"
    }
   ],
   "source": [
    "paragraph"
   ]
  },
  {
   "cell_type": "code",
   "execution_count": 7,
   "id": "ea2a7877",
   "metadata": {},
   "outputs": [
    {
     "data": {
      "text/plain": [
       "['I have three visions for India.',\n",
       " 'In 3000 years of our history, people from all over, the world have come and invaded us, captured our lands, conquered our minds.',\n",
       " ',From Alexander onwards, the Greeks, the Turks, the Moguls, the Portuguese, the British,the French, the Dutch, all of them came and looted us, took over what was ours.',\n",
       " ',Yet we have not done this to any other nation.',\n",
       " 'We have not conquered anyone.We have not grabbed their land, their culture, their history and tried to enforce our way of life on them.',\n",
       " 'Why?',\n",
       " 'Because we respect the freedom of others.That is why my first vision is that of freedom.',\n",
       " 'I believe that India got its first vision of this in 1857, when we started the War of Independence.',\n",
       " 'It is this freedom thatwe must protect and nurture and build on.',\n",
       " 'If we are not free, no one will respect us.My second vision for India’s development.',\n",
       " 'For fifty years we have been a developing nation.It is time we see ourselves as a developed nation.',\n",
       " 'We are among the top 5 nations of the worldin terms of GDP.',\n",
       " 'We have a 10 percent growth rate in most areas.',\n",
       " 'Our poverty levels are fallingOur achievements are being globally recognised today.',\n",
       " 'Yet we lack the self-confidence tosee ourselves as a developed nation, self-reliant and self-assured.',\n",
       " 'Isn’t this incorrect?I have a third vision.',\n",
       " 'India must stand up to the world.',\n",
       " 'Because I believe that unless India stands up to the world, no one will respect us.',\n",
       " 'Only strength respects strength.',\n",
       " 'We must be  strong not only as a military power but also as an economic power.',\n",
       " 'Both must go hand-in-hand.',\n",
       " 'My good fortune was to have worked with three great minds.',\n",
       " 'Dr. Vikram Sarabhai of the Dept.',\n",
       " 'of  space, Professor Satish Dhawan, who succeeded him and Dr. Brahm Prakash, father of nuclear material.',\n",
       " 'I was lucky to have worked with all three of them closely and consider this the great opportunity of my life.',\n",
       " 'I see four milestones in my career']"
      ]
     },
     "execution_count": 7,
     "metadata": {},
     "output_type": "execute_result"
    }
   ],
   "source": [
    "sentences = nltk.sent_tokenize(paragraph)\n",
    "sentences"
   ]
  },
  {
   "cell_type": "code",
   "execution_count": 8,
   "id": "f93ae967",
   "metadata": {},
   "outputs": [
    {
     "data": {
      "text/plain": [
       "26"
      ]
     },
     "execution_count": 8,
     "metadata": {},
     "output_type": "execute_result"
    }
   ],
   "source": [
    "len(sentences)"
   ]
  },
  {
   "cell_type": "code",
   "execution_count": 9,
   "id": "727d6042",
   "metadata": {},
   "outputs": [],
   "source": [
    "lemmatizer = WordNetLemmatizer()"
   ]
  },
  {
   "cell_type": "code",
   "execution_count": 15,
   "id": "26c0c5d6",
   "metadata": {},
   "outputs": [
    {
     "name": "stdout",
     "output_type": "stream",
     "text": [
      "['I', 'three', 'vision', 'India', '.']\n",
      "['In', '3000', 'year', 'history', ',', 'people', ',', 'world', 'come', 'invaded', 'u', ',', 'captured', 'land', ',', 'conquered', 'mind', '.']\n",
      "[',', 'From', 'Alexander', 'onwards', ',', 'Greeks', ',', 'Turks', ',', 'Moguls', ',', 'Portuguese', ',', 'British', ',', 'French', ',', 'Dutch', ',', 'came', 'looted', 'u', ',', 'took', '.']\n",
      "[',', 'Yet', 'done', 'nation', '.']\n",
      "['We', 'conquered', 'anyone.We', 'grabbed', 'land', ',', 'culture', ',', 'history', 'tried', 'enforce', 'way', 'life', '.']\n",
      "['Why', '?']\n",
      "['Because', 'respect', 'freedom', 'others.That', 'first', 'vision', 'freedom', '.']\n",
      "['I', 'believe', 'India', 'got', 'first', 'vision', '1857', ',', 'started', 'War', 'Independence', '.']\n",
      "['It', 'freedom', 'thatwe', 'must', 'protect', 'nurture', 'build', '.']\n",
      "['If', 'free', ',', 'one', 'respect', 'us.My', 'second', 'vision', 'India', '’', 'development', '.']\n",
      "['For', 'fifty', 'year', 'developing', 'nation.It', 'time', 'see', 'developed', 'nation', '.']\n",
      "['We', 'among', 'top', '5', 'nation', 'worldin', 'term', 'GDP', '.']\n",
      "['We', '10', 'percent', 'growth', 'rate', 'area', '.']\n",
      "['Our', 'poverty', 'level', 'fallingOur', 'achievement', 'globally', 'recognised', 'today', '.']\n",
      "['Yet', 'lack', 'self-confidence', 'tosee', 'developed', 'nation', ',', 'self-reliant', 'self-assured', '.']\n",
      "['Isn', '’', 'incorrect', '?', 'I', 'third', 'vision', '.']\n",
      "['India', 'must', 'stand', 'world', '.']\n",
      "['Because', 'I', 'believe', 'unless', 'India', 'stand', 'world', ',', 'one', 'respect', 'u', '.']\n",
      "['Only', 'strength', 'respect', 'strength', '.']\n",
      "['We', 'must', 'strong', 'military', 'power', 'also', 'economic', 'power', '.']\n",
      "['Both', 'must', 'go', 'hand-in-hand', '.']\n",
      "['My', 'good', 'fortune', 'worked', 'three', 'great', 'mind', '.']\n",
      "['Dr.', 'Vikram', 'Sarabhai', 'Dept', '.']\n",
      "['space', ',', 'Professor', 'Satish', 'Dhawan', ',', 'succeeded', 'Dr.', 'Brahm', 'Prakash', ',', 'father', 'nuclear', 'material', '.']\n",
      "['I', 'lucky', 'worked', 'three', 'closely', 'consider', 'great', 'opportunity', 'life', '.']\n",
      "['I', 'see', 'four', 'milestone', 'career']\n"
     ]
    }
   ],
   "source": [
    "### Lemmatization\n",
    "for i in range(len(sentences)):\n",
    "    words = nltk.word_tokenize(sentences[i])\n",
    "    words = [lemmatizer.lemmatize(word) for word in words if word not in set(stopwords.words('english'))]\n",
    "    print(words)\n",
    "    sentences[i] = ' '.join(words)"
   ]
  },
  {
   "cell_type": "code",
   "execution_count": 14,
   "id": "f4d15b5e",
   "metadata": {},
   "outputs": [
    {
     "data": {
      "text/plain": [
       "['I three vision India .',\n",
       " 'In 3000 year history , people , world come invaded u , captured land , conquered mind .',\n",
       " ', From Alexander onwards , Greeks , Turks , Moguls , Portuguese , British , French , Dutch , came looted u , took .',\n",
       " ', Yet done nation .',\n",
       " 'We conquered anyone.We grabbed land , culture , history tried enforce way life .',\n",
       " 'Why ?',\n",
       " 'Because respect freedom others.That first vision freedom .',\n",
       " 'I believe India got first vision 1857 , started War Independence .',\n",
       " 'It freedom thatwe must protect nurture build .',\n",
       " 'If free , one respect us.My second vision India ’ development .',\n",
       " 'For fifty year developing nation.It time see developed nation .',\n",
       " 'We among top 5 nation worldin term GDP .',\n",
       " 'We 10 percent growth rate area .',\n",
       " 'Our poverty level fallingOur achievement globally recognised today .',\n",
       " 'Yet lack self-confidence tosee developed nation , self-reliant self-assured .',\n",
       " 'Isn ’ incorrect ? I third vision .',\n",
       " 'India must stand world .',\n",
       " 'Because I believe unless India stand world , one respect u .',\n",
       " 'Only strength respect strength .',\n",
       " 'We must strong military power also economic power .',\n",
       " 'Both must go hand-in-hand .',\n",
       " 'My good fortune worked three great mind .',\n",
       " 'Dr. Vikram Sarabhai Dept .',\n",
       " 'space , Professor Satish Dhawan , succeeded Dr. Brahm Prakash , father nuclear material .',\n",
       " 'I lucky worked three closely consider great opportunity life .',\n",
       " 'I see four milestone career']"
      ]
     },
     "execution_count": 14,
     "metadata": {},
     "output_type": "execute_result"
    }
   ],
   "source": [
    "sentences"
   ]
  },
  {
   "cell_type": "code",
   "execution_count": null,
   "id": "7310cdc2",
   "metadata": {},
   "outputs": [],
   "source": []
  }
 ],
 "metadata": {
  "kernelspec": {
   "display_name": "Python 3",
   "language": "python",
   "name": "python3"
  },
  "language_info": {
   "codemirror_mode": {
    "name": "ipython",
    "version": 3
   },
   "file_extension": ".py",
   "mimetype": "text/x-python",
   "name": "python",
   "nbconvert_exporter": "python",
   "pygments_lexer": "ipython3",
   "version": "3.9.5"
  }
 },
 "nbformat": 4,
 "nbformat_minor": 5
}
