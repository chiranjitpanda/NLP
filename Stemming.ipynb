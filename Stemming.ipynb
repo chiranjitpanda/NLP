{
 "cells": [
  {
   "cell_type": "code",
   "execution_count": 14,
   "id": "c033a619",
   "metadata": {},
   "outputs": [],
   "source": [
    "import nltk\n",
    "from nltk.stem import PorterStemmer\n",
    "from nltk.corpus import stopwords"
   ]
  },
  {
   "cell_type": "code",
   "execution_count": 15,
   "id": "e07f1d9f",
   "metadata": {},
   "outputs": [],
   "source": [
    "paragraph = \"I have three visions for India. In 3000 years of our history, people from all over, the world have come and invaded us, captured our lands, conquered our minds. ,From Alexander onwards, the Greeks, the Turks, the Moguls, the Portuguese, the British,the French, the Dutch, all of them came and looted us, took over what was ours. ,Yet we have not done this to any other nation. We have not conquered anyone.We have not grabbed their land, their culture, their history and tried to enforce our way of life on them. Why? Because we respect the freedom of others.That is why my first vision is that of freedom. I believe that India got its first vision of this in 1857, when we started the War of Independence. It is this freedom thatwe must protect and nurture and build on. If we are not free, no one will respect us.My second vision for India’s development. For fifty years we have been a developing nation.It is time we see ourselves as a developed nation. We are among the top 5 nations of the worldin terms of GDP. We have a 10 percent growth rate in most areas. Our poverty levels are fallingOur achievements are being globally recognised today. Yet we lack the self-confidence tosee ourselves as a developed nation, self-reliant and self-assured. Isn’t this incorrect?I have a third vision. India must stand up to the world. Because I believe that unless India stands up to the world, no one will respect us. Only strength respects strength. We must be  strong not only as a military power but also as an economic power. Both must go hand-in-hand.  My good fortune was to have worked with three great minds. Dr. Vikram Sarabhai of the Dept. of  space, Professor Satish Dhawan, who succeeded him and Dr. Brahm Prakash, father of nuclear material. I was lucky to have worked with all three of them closely and consider this the great opportunity of my life.  I see four milestones in my career'\""
   ]
  },
  {
   "cell_type": "code",
   "execution_count": 16,
   "id": "4aa59cdb",
   "metadata": {},
   "outputs": [
    {
     "data": {
      "text/plain": [
       "\"I have three visions for India. In 3000 years of our history, people from all over, the world have come and invaded us, captured our lands, conquered our minds. ,From Alexander onwards, the Greeks, the Turks, the Moguls, the Portuguese, the British,the French, the Dutch, all of them came and looted us, took over what was ours. ,Yet we have not done this to any other nation. We have not conquered anyone.We have not grabbed their land, their culture, their history and tried to enforce our way of life on them. Why? Because we respect the freedom of others.That is why my first vision is that of freedom. I believe that India got its first vision of this in 1857, when we started the War of Independence. It is this freedom thatwe must protect and nurture and build on. If we are not free, no one will respect us.My second vision for India’s development. For fifty years we have been a developing nation.It is time we see ourselves as a developed nation. We are among the top 5 nations of the worldin terms of GDP. We have a 10 percent growth rate in most areas. Our poverty levels are fallingOur achievements are being globally recognised today. Yet we lack the self-confidence tosee ourselves as a developed nation, self-reliant and self-assured. Isn’t this incorrect?I have a third vision. India must stand up to the world. Because I believe that unless India stands up to the world, no one will respect us. Only strength respects strength. We must be  strong not only as a military power but also as an economic power. Both must go hand-in-hand.  My good fortune was to have worked with three great minds. Dr. Vikram Sarabhai of the Dept. of  space, Professor Satish Dhawan, who succeeded him and Dr. Brahm Prakash, father of nuclear material. I was lucky to have worked with all three of them closely and consider this the great opportunity of my life.  I see four milestones in my career'\""
      ]
     },
     "execution_count": 16,
     "metadata": {},
     "output_type": "execute_result"
    }
   ],
   "source": [
    "paragraph"
   ]
  },
  {
   "cell_type": "code",
   "execution_count": 17,
   "id": "c0bde1ca",
   "metadata": {},
   "outputs": [
    {
     "data": {
      "text/plain": [
       "['I have three visions for India.',\n",
       " 'In 3000 years of our history, people from all over, the world have come and invaded us, captured our lands, conquered our minds.',\n",
       " ',From Alexander onwards, the Greeks, the Turks, the Moguls, the Portuguese, the British,the French, the Dutch, all of them came and looted us, took over what was ours.',\n",
       " ',Yet we have not done this to any other nation.',\n",
       " 'We have not conquered anyone.We have not grabbed their land, their culture, their history and tried to enforce our way of life on them.',\n",
       " 'Why?',\n",
       " 'Because we respect the freedom of others.That is why my first vision is that of freedom.',\n",
       " 'I believe that India got its first vision of this in 1857, when we started the War of Independence.',\n",
       " 'It is this freedom thatwe must protect and nurture and build on.',\n",
       " 'If we are not free, no one will respect us.My second vision for India’s development.',\n",
       " 'For fifty years we have been a developing nation.It is time we see ourselves as a developed nation.',\n",
       " 'We are among the top 5 nations of the worldin terms of GDP.',\n",
       " 'We have a 10 percent growth rate in most areas.',\n",
       " 'Our poverty levels are fallingOur achievements are being globally recognised today.',\n",
       " 'Yet we lack the self-confidence tosee ourselves as a developed nation, self-reliant and self-assured.',\n",
       " 'Isn’t this incorrect?I have a third vision.',\n",
       " 'India must stand up to the world.',\n",
       " 'Because I believe that unless India stands up to the world, no one will respect us.',\n",
       " 'Only strength respects strength.',\n",
       " 'We must be  strong not only as a military power but also as an economic power.',\n",
       " 'Both must go hand-in-hand.',\n",
       " 'My good fortune was to have worked with three great minds.',\n",
       " 'Dr. Vikram Sarabhai of the Dept.',\n",
       " 'of  space, Professor Satish Dhawan, who succeeded him and Dr. Brahm Prakash, father of nuclear material.',\n",
       " 'I was lucky to have worked with all three of them closely and consider this the great opportunity of my life.',\n",
       " \"I see four milestones in my career'\"]"
      ]
     },
     "execution_count": 17,
     "metadata": {},
     "output_type": "execute_result"
    }
   ],
   "source": [
    "sentences = nltk.sent_tokenize(paragraph)\n",
    "sentences"
   ]
  },
  {
   "cell_type": "code",
   "execution_count": 18,
   "id": "1c1a90be",
   "metadata": {},
   "outputs": [],
   "source": [
    "stemmer = PorterStemmer()"
   ]
  },
  {
   "cell_type": "code",
   "execution_count": 42,
   "id": "38ca4433",
   "metadata": {},
   "outputs": [],
   "source": [
    "### stemming\n",
    "for i in range(len(sentences)):\n",
    "    words = nltk.word_tokenize(sentences[i])\n",
    "    words = [stemmer.stem(word) for word in words if word not in set(stopwords.words('english'))]\n",
    "    ##print(words)\n",
    "    sentences[i] = ' '.join(words)\n",
    "    "
   ]
  },
  {
   "cell_type": "code",
   "execution_count": 43,
   "id": "8d571e9b",
   "metadata": {},
   "outputs": [
    {
     "data": {
      "text/plain": [
       "['three vision india .',\n",
       " '3000 year histori , peopl , world come invad us , captur land , conquer mind .',\n",
       " ', alexand onward , greek , turk , mogul , portugu , british , french , dutch , came loot us , took .',\n",
       " ', yet done nation .',\n",
       " 'conquer anyone.w grab land , cultur , histori tri enforc way life .',\n",
       " 'whi ?',\n",
       " 'becau respect freedom others.that first vision freedom .',\n",
       " 'believ india got first vision 1857 , start war independ .',\n",
       " 'freedom thatw must protect nurtur build .',\n",
       " 'free , one respect us.mi second vision india ’ develop .',\n",
       " 'fifti year develop nation.it time see develop nation .',\n",
       " 'among top 5 nation worldin term gdp .',\n",
       " '10 percent growth rate area .',\n",
       " 'poverti level fallingour achiev global recogni today .',\n",
       " 'yet lack self-confid tose develop nation , self-r self-assur .',\n",
       " '’ incorrect ? third vision .',\n",
       " 'india must stand world .',\n",
       " 'becau believ unless india stand world , one respect us .',\n",
       " 'onli strength respect strength .',\n",
       " 'must strong militari power also econom power .',\n",
       " 'must go hand-in-hand .',\n",
       " 'good fortun work three great mind .',\n",
       " 'dr. vikram sarabhai dept .',\n",
       " 'space , professor satish dhawan , succeed dr. brahm prakash , father nuclear materi .',\n",
       " 'lucki work three close consid great opportun life .',\n",
       " \"see four mileston career '\"]"
      ]
     },
     "execution_count": 43,
     "metadata": {},
     "output_type": "execute_result"
    }
   ],
   "source": [
    "sentences"
   ]
  },
  {
   "cell_type": "code",
   "execution_count": null,
   "id": "006fa276",
   "metadata": {},
   "outputs": [],
   "source": []
  }
 ],
 "metadata": {
  "kernelspec": {
   "display_name": "Python 3",
   "language": "python",
   "name": "python3"
  },
  "language_info": {
   "codemirror_mode": {
    "name": "ipython",
    "version": 3
   },
   "file_extension": ".py",
   "mimetype": "text/x-python",
   "name": "python",
   "nbconvert_exporter": "python",
   "pygments_lexer": "ipython3",
   "version": "3.9.5"
  }
 },
 "nbformat": 4,
 "nbformat_minor": 5
}
