{
 "cells": [
  {
   "cell_type": "code",
   "execution_count": 1,
   "id": "212c6228",
   "metadata": {},
   "outputs": [],
   "source": [
    "import nltk\n"
   ]
  },
  {
   "cell_type": "code",
   "execution_count": 5,
   "id": "0e2c6642",
   "metadata": {},
   "outputs": [],
   "source": [
    "paragraph = 'I have three visions for India. In 3000 years of our history, people from all over, the world have come and invaded us, captured our lands, conquered our minds. ,From Alexander onwards, the Greeks, the Turks, the Moguls, the Portuguese, the British,the French, the Dutch, all of them came and looted us, took over what was ours. ,Yet we have not done this to any other nation. We have not conquered anyone.We have not grabbed their land, their culture, their history and tried to enforce our way of life on them. Why? Because we respect the freedom of others.That is why my first vision is that of freedom. I believe that India got its first vision of this in 1857, when we started the War of Independence. It is this freedom thatwe must protect and nurture and build on. If we are not free, no one will respect us.My second vision for India’s development. For fifty years we have been a developing nation.It is time we see ourselves as a developed nation. We are among the top 5 nations of the worldin terms of GDP. We have a 10 percent growth rate in most areas. Our poverty levels are fallingOur achievements are being globally recognised today. Yet we lack the self-confidence tosee ourselves as a developed nation, self-reliant and self-assured. Isn’t this incorrect?I have a third vision. India must stand up to the world. Because I believe that unless India stands up to the world, no one will respect us. Only strength respects strength. We must be  strong not only as a military power but also as an economic power. Both must go hand-in-hand.  My good fortune was to have worked with three great minds. Dr. Vikram Sarabhai of the Dept. of  space, Professor Satish Dhawan, who succeeded him and Dr. Brahm Prakash, father of nuclear material. I was lucky to have worked with all three of them closely and consider this the great opportunity of my life.  I see four milestones in my career'"
   ]
  },
  {
   "cell_type": "code",
   "execution_count": 6,
   "id": "c13c34ac",
   "metadata": {},
   "outputs": [
    {
     "data": {
      "text/plain": [
       "'I have three visions for India. In 3000 years of our history, people from all over, the world have come and invaded us, captured our lands, conquered our minds. ,From Alexander onwards, the Greeks, the Turks, the Moguls, the Portuguese, the British,the French, the Dutch, all of them came and looted us, took over what was ours. ,Yet we have not done this to any other nation. We have not conquered anyone.We have not grabbed their land, their culture, their history and tried to enforce our way of life on them. Why? Because we respect the freedom of others.That is why my first vision is that of freedom. I believe that India got its first vision of this in 1857, when we started the War of Independence. It is this freedom thatwe must protect and nurture and build on. If we are not free, no one will respect us.My second vision for India’s development. For fifty years we have been a developing nation.It is time we see ourselves as a developed nation. We are among the top 5 nations of the worldin terms of GDP. We have a 10 percent growth rate in most areas. Our poverty levels are fallingOur achievements are being globally recognised today. Yet we lack the self-confidence tosee ourselves as a developed nation, self-reliant and self-assured. Isn’t this incorrect?I have a third vision. India must stand up to the world. Because I believe that unless India stands up to the world, no one will respect us. Only strength respects strength. We must be  strong not only as a military power but also as an economic power. Both must go hand-in-hand.  My good fortune was to have worked with three great minds. Dr. Vikram Sarabhai of the Dept. of  space, Professor Satish Dhawan, who succeeded him and Dr. Brahm Prakash, father of nuclear material. I was lucky to have worked with all three of them closely and consider this the great opportunity of my life.  I see four milestones in my career'"
      ]
     },
     "execution_count": 6,
     "metadata": {},
     "output_type": "execute_result"
    }
   ],
   "source": [
    "paragraph"
   ]
  },
  {
   "cell_type": "code",
   "execution_count": 8,
   "id": "3cd2bf05",
   "metadata": {},
   "outputs": [],
   "source": [
    "### cleanning the text\n",
    "import re\n",
    "from nltk.stem import WordNetLemmatizer\n",
    "from nltk.stem import PorterStemmer\n",
    "from nltk.corpus import stopwords"
   ]
  },
  {
   "cell_type": "code",
   "execution_count": 9,
   "id": "34a5b461",
   "metadata": {},
   "outputs": [],
   "source": [
    "wordnet = WordNetLemmatizer()"
   ]
  },
  {
   "cell_type": "code",
   "execution_count": 10,
   "id": "27479456",
   "metadata": {},
   "outputs": [],
   "source": [
    "sentences = nltk.sent_tokenize(paragraph)"
   ]
  },
  {
   "cell_type": "code",
   "execution_count": 15,
   "id": "eba638de",
   "metadata": {},
   "outputs": [
    {
     "data": {
      "text/plain": [
       "['I have three visions for India.',\n",
       " 'In 3000 years of our history, people from all over, the world have come and invaded us, captured our lands, conquered our minds.',\n",
       " ',From Alexander onwards, the Greeks, the Turks, the Moguls, the Portuguese, the British,the French, the Dutch, all of them came and looted us, took over what was ours.',\n",
       " ',Yet we have not done this to any other nation.',\n",
       " 'We have not conquered anyone.We have not grabbed their land, their culture, their history and tried to enforce our way of life on them.',\n",
       " 'Why?',\n",
       " 'Because we respect the freedom of others.That is why my first vision is that of freedom.',\n",
       " 'I believe that India got its first vision of this in 1857, when we started the War of Independence.',\n",
       " 'It is this freedom thatwe must protect and nurture and build on.',\n",
       " 'If we are not free, no one will respect us.My second vision for India’s development.',\n",
       " 'For fifty years we have been a developing nation.It is time we see ourselves as a developed nation.',\n",
       " 'We are among the top 5 nations of the worldin terms of GDP.',\n",
       " 'We have a 10 percent growth rate in most areas.',\n",
       " 'Our poverty levels are fallingOur achievements are being globally recognised today.',\n",
       " 'Yet we lack the self-confidence tosee ourselves as a developed nation, self-reliant and self-assured.',\n",
       " 'Isn’t this incorrect?I have a third vision.',\n",
       " 'India must stand up to the world.',\n",
       " 'Because I believe that unless India stands up to the world, no one will respect us.',\n",
       " 'Only strength respects strength.',\n",
       " 'We must be  strong not only as a military power but also as an economic power.',\n",
       " 'Both must go hand-in-hand.',\n",
       " 'My good fortune was to have worked with three great minds.',\n",
       " 'Dr. Vikram Sarabhai of the Dept.',\n",
       " 'of  space, Professor Satish Dhawan, who succeeded him and Dr. Brahm Prakash, father of nuclear material.',\n",
       " 'I was lucky to have worked with all three of them closely and consider this the great opportunity of my life.',\n",
       " 'I see four milestones in my career']"
      ]
     },
     "execution_count": 15,
     "metadata": {},
     "output_type": "execute_result"
    }
   ],
   "source": [
    "sentences"
   ]
  },
  {
   "cell_type": "code",
   "execution_count": 20,
   "id": "d5c9277f",
   "metadata": {},
   "outputs": [],
   "source": [
    "corpus = []\n",
    "for i in range(len(sentences)):\n",
    "    review = re.sub('[^a-zA-Z]',' ',sentences[i])\n",
    "    review =  review.lower()\n",
    "    review = review.split()\n",
    "    review = [wordnet.lemmatize(word) for word in review if word not in set(stopwords.words('english'))]\n",
    "    review = ' '.join(review)\n",
    "    corpus.append(review)"
   ]
  },
  {
   "cell_type": "code",
   "execution_count": 21,
   "id": "e7c5d3bd",
   "metadata": {},
   "outputs": [
    {
     "data": {
      "text/plain": [
       "['three vision india',\n",
       " 'year history people world come invaded u captured land conquered mind',\n",
       " 'alexander onwards greek turk mogul portuguese british french dutch came looted u took',\n",
       " 'yet done nation',\n",
       " 'conquered anyone grabbed land culture history tried enforce way life',\n",
       " '',\n",
       " 'respect freedom others first vision freedom',\n",
       " 'believe india got first vision started war independence',\n",
       " 'freedom thatwe must protect nurture build',\n",
       " 'free one respect u second vision india development',\n",
       " 'fifty year developing nation time see developed nation',\n",
       " 'among top nation worldin term gdp',\n",
       " 'percent growth rate area',\n",
       " 'poverty level fallingour achievement globally recognised today',\n",
       " 'yet lack self confidence tosee developed nation self reliant self assured',\n",
       " 'incorrect third vision',\n",
       " 'india must stand world',\n",
       " 'believe unless india stand world one respect u',\n",
       " 'strength respect strength',\n",
       " 'must strong military power also economic power',\n",
       " 'must go hand hand',\n",
       " 'good fortune worked three great mind',\n",
       " 'dr vikram sarabhai dept',\n",
       " 'space professor satish dhawan succeeded dr brahm prakash father nuclear material',\n",
       " 'lucky worked three closely consider great opportunity life',\n",
       " 'see four milestone career']"
      ]
     },
     "execution_count": 21,
     "metadata": {},
     "output_type": "execute_result"
    }
   ],
   "source": [
    "corpus"
   ]
  },
  {
   "cell_type": "code",
   "execution_count": 23,
   "id": "275d34ee",
   "metadata": {},
   "outputs": [],
   "source": [
    "### creating the TF-IDF Model\n",
    "from sklearn.feature_extraction.text import TfidfVectorizer\n",
    "cv = TfidfVectorizer()\n",
    "x = cv.fit_transform(corpus).toarray()"
   ]
  },
  {
   "cell_type": "code",
   "execution_count": 24,
   "id": "f33e5b9a",
   "metadata": {},
   "outputs": [
    {
     "data": {
      "text/plain": [
       "array([[0.        , 0.        , 0.        , ..., 0.        , 0.        ,\n",
       "        0.        ],\n",
       "       [0.        , 0.        , 0.        , ..., 0.        , 0.30279388,\n",
       "        0.        ],\n",
       "       [0.        , 0.28867513, 0.        , ..., 0.        , 0.        ,\n",
       "        0.        ],\n",
       "       ...,\n",
       "       [0.        , 0.        , 0.        , ..., 0.        , 0.        ,\n",
       "        0.        ],\n",
       "       [0.        , 0.        , 0.        , ..., 0.        , 0.        ,\n",
       "        0.        ],\n",
       "       [0.        , 0.        , 0.        , ..., 0.        , 0.        ,\n",
       "        0.        ]])"
      ]
     },
     "execution_count": 24,
     "metadata": {},
     "output_type": "execute_result"
    }
   ],
   "source": [
    "x"
   ]
  },
  {
   "cell_type": "code",
   "execution_count": 25,
   "id": "23d29176",
   "metadata": {},
   "outputs": [
    {
     "data": {
      "text/plain": [
       "(26, 117)"
      ]
     },
     "execution_count": 25,
     "metadata": {},
     "output_type": "execute_result"
    }
   ],
   "source": [
    "x.shape"
   ]
  },
  {
   "cell_type": "code",
   "execution_count": null,
   "id": "5d7222b7",
   "metadata": {},
   "outputs": [],
   "source": []
  }
 ],
 "metadata": {
  "kernelspec": {
   "display_name": "Python 3",
   "language": "python",
   "name": "python3"
  },
  "language_info": {
   "codemirror_mode": {
    "name": "ipython",
    "version": 3
   },
   "file_extension": ".py",
   "mimetype": "text/x-python",
   "name": "python",
   "nbconvert_exporter": "python",
   "pygments_lexer": "ipython3",
   "version": "3.9.5"
  }
 },
 "nbformat": 4,
 "nbformat_minor": 5
}
